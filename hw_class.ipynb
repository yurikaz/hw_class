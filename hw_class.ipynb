{
 "cells": [
  {
   "cell_type": "markdown",
   "metadata": {},
   "source": [
    "# Задание 1\n",
    "Напишите функцию, которая возвращает название валюты (поле ‘Name’) с максимальным значением курса с помощью сервиса https://www.cbr-xml-daily.ru/daily_json.js"
   ]
  },
  {
   "cell_type": "code",
   "execution_count": 1,
   "metadata": {},
   "outputs": [],
   "source": [
    "from libs.exchange import Rate\n",
    "import json"
   ]
  },
  {
   "cell_type": "code",
   "execution_count": 2,
   "metadata": {},
   "outputs": [],
   "source": [
    "R = Rate()"
   ]
  },
  {
   "cell_type": "code",
   "execution_count": 7,
   "metadata": {},
   "outputs": [
    {
     "data": {
      "text/plain": [
       "'Датских крон'"
      ]
     },
     "execution_count": 7,
     "metadata": {},
     "output_type": "execute_result"
    }
   ],
   "source": [
    "def getMaxDengaName(RateObj):\n",
    "    dengajson = RateObj.exchange_rates()\n",
    "    max_denga = 0\n",
    "    for denga in dengajson.values():\n",
    "        if denga['Value'] > max_denga:\n",
    "            max_denga_name = denga['Name']\n",
    "            max_denga = denga['Value']\n",
    "    return max_denga_name\n",
    "\n",
    "getMaxDengaName(R)"
   ]
  },
  {
   "cell_type": "markdown",
   "metadata": {},
   "source": [
    "# Задание 2\n",
    "Добавьте в класс Rate параметр diff (со значениями True или False), который в случае значения True в методах eur и usd будет возвращать не курс валюты, а изменение по сравнению в прошлым значением. Считайте, self.diff будет принимать значение True только при возврате значения курса. При отображении всей информации о валюте он не используется."
   ]
  },
  {
   "cell_type": "code",
   "execution_count": 6,
   "metadata": {},
   "outputs": [
    {
     "name": "stdout",
     "output_type": "stream",
     "text": [
      "0.16699999999998738\n",
      "68.6856\n"
     ]
    }
   ],
   "source": [
    "R.diff = True\n",
    "print(R.make_format('EUR'))\n",
    "R.diff = False\n",
    "print(R.make_format('EUR'))"
   ]
  },
  {
   "cell_type": "markdown",
   "metadata": {},
   "source": [
    "# Задание 3\n",
    "Напишите класс Designer, который учитывает количество международных премий."
   ]
  },
  {
   "cell_type": "code",
   "execution_count": 27,
   "metadata": {},
   "outputs": [],
   "source": [
    "class Employee:\n",
    "    def __init__(self, name, seniority):\n",
    "        self.name = name\n",
    "        self.seniority = seniority\n",
    "        \n",
    "        self.grade = 1\n",
    "    \n",
    "    def grade_up(self):\n",
    "        \"\"\"Повышает уровень сотрудника\"\"\"\n",
    "        self.grade += 1\n",
    "    \n",
    "    def publish_grade(self):\n",
    "        \"\"\"Публикация результатов аккредитации сотрудников\"\"\"\n",
    "        print(self.name,' grade: ', self.grade, 'seniority: ', self.seniority)\n",
    "    \n",
    "    def check_if_it_is_time_for_upgrade(self):\n",
    "        pass\n",
    "    \n",
    "class Designer(Employee):\n",
    "    def __init__(self, name, seniority, awards):\n",
    "        super().__init__(name, seniority)\n",
    "        self.awards = awards\n",
    "        self.seniority += awards*2\n",
    "    \n",
    "    def check_if_it_is_time_for_upgrade(self):\n",
    "        # для каждой аккредитации увеличиваем счетчик на 1\n",
    "        # пока считаем, что все разработчики проходят аккредитацию\n",
    "        self.seniority += 1\n",
    "        \n",
    "        # условие повышения сотрудника из презентации\n",
    "        self.grade = 1 +self.seniority // 7\n",
    "\n",
    "        # публикация результатов\n",
    "        return self.publish_grade()\n",
    "    \n",
    "    def get_award(self):\n",
    "        self.awards += 1\n",
    "        self.seniority += 2\n",
    "        return self.awards"
   ]
  },
  {
   "cell_type": "code",
   "execution_count": 28,
   "metadata": {},
   "outputs": [],
   "source": [
    "elena = Designer('Елена', seniority=0, awards=2)"
   ]
  },
  {
   "cell_type": "code",
   "execution_count": 29,
   "metadata": {},
   "outputs": [
    {
     "name": "stdout",
     "output_type": "stream",
     "text": [
      "Елена  grade:  1 seniority:  5\n",
      "Елена  grade:  1 seniority:  6\n",
      "Елена  grade:  2 seniority:  7\n",
      "Елена  grade:  2 seniority:  8\n",
      "Елена  grade:  2 seniority:  9\n",
      "Елена  grade:  2 seniority:  10\n",
      "Елена  grade:  2 seniority:  11\n",
      "Елена  grade:  2 seniority:  12\n",
      "Елена  grade:  2 seniority:  13\n",
      "Елена  grade:  3 seniority:  14\n",
      "Елена  grade:  3 seniority:  15\n",
      "Елена  grade:  3 seniority:  16\n",
      "Елена  grade:  3 seniority:  17\n",
      "Елена  grade:  3 seniority:  18\n",
      "Елена  grade:  3 seniority:  19\n",
      "Елена  grade:  3 seniority:  20\n",
      "Елена  grade:  4 seniority:  21\n",
      "Елена  grade:  4 seniority:  22\n",
      "Елена  grade:  4 seniority:  23\n",
      "Елена  grade:  4 seniority:  24\n",
      "Awards\n",
      "Елена  grade:  5 seniority:  29\n"
     ]
    }
   ],
   "source": [
    "\n",
    "for i in range(20):\n",
    "    elena.check_if_it_is_time_for_upgrade()\n",
    "print('Awards')\n",
    "elena.get_award()\n",
    "elena.get_award()\n",
    "elena.check_if_it_is_time_for_upgrade()"
   ]
  }
 ],
 "metadata": {
  "celltoolbar": "Raw Cell Format",
  "kernelspec": {
   "display_name": "Python 3",
   "language": "python",
   "name": "python3"
  },
  "language_info": {
   "codemirror_mode": {
    "name": "ipython",
    "version": 3
   },
   "file_extension": ".py",
   "mimetype": "text/x-python",
   "name": "python",
   "nbconvert_exporter": "python",
   "pygments_lexer": "ipython3",
   "version": "3.7.4"
  },
  "widgets": {
   "application/vnd.jupyter.widget-state+json": {
    "state": {},
    "version_major": 2,
    "version_minor": 0
   }
  }
 },
 "nbformat": 4,
 "nbformat_minor": 2
}
